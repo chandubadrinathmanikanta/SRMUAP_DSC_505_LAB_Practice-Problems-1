{
  "nbformat": 4,
  "nbformat_minor": 0,
  "metadata": {
    "colab": {
      "provenance": []
    },
    "kernelspec": {
      "name": "python3",
      "display_name": "Python 3"
    },
    "language_info": {
      "name": "python"
    }
  },
  "cells": [
    {
      "cell_type": "markdown",
      "source": [
        "1.Given two input number A and B. Find the sum of number between A and B using python. For Example: input: A = 2, B = 5 output: 14(2+3+4+5)"
      ],
      "metadata": {
        "id": "euMntZlwgdl1"
      }
    },
    {
      "cell_type": "code",
      "execution_count": null,
      "metadata": {
        "colab": {
          "base_uri": "https://localhost:8080/"
        },
        "id": "u8Thx0xVgc1I",
        "outputId": "3d0041c0-8b6b-40a6-cf1b-3a9ba847f074"
      },
      "outputs": [
        {
          "output_type": "stream",
          "name": "stdout",
          "text": [
            "Enter the value of A: \n",
            "Enter the value of B: \n",
            "3\n",
            "4\n",
            "7\n"
          ]
        }
      ],
      "source": [
        "print(\"Enter the value of A: \")\n",
        "print(\"Enter the value of B: \")\n",
        "a=int(input())\n",
        "b=int(input())\n",
        "sum = 0\n",
        "while a<=b:\n",
        "  sum+=a\n",
        "  a+=1\n",
        "print(sum)"
      ]
    },
    {
      "cell_type": "markdown",
      "source": [
        "2.Write a Python Program to check whether a number is perfect or not."
      ],
      "metadata": {
        "id": "WNu9S1mbhvKF"
      }
    },
    {
      "cell_type": "code",
      "source": [
        "num = int(input(\"Enter the number: \"))\n",
        "total = 0\n",
        "i = 1\n",
        "while i < num:\n",
        "    if num % i == 0:\n",
        "        total = total + i\n",
        "    i = i + 1\n",
        "if total == num:\n",
        "    print(\"The entered number is a perfect number\")\n",
        "else:\n",
        "    print(\"The entered number is not a perfect number\")\n"
      ],
      "metadata": {
        "colab": {
          "base_uri": "https://localhost:8080/"
        },
        "id": "d0oWWksvh4eI",
        "outputId": "02716bbd-fabe-4496-caff-1a5ab7269d6b"
      },
      "execution_count": null,
      "outputs": [
        {
          "output_type": "stream",
          "name": "stdout",
          "text": [
            "Enter the number: 6\n",
            "The entered number is a perfect number\n"
          ]
        }
      ]
    },
    {
      "cell_type": "markdown",
      "source": [
        "3.Write a python code that prompts user to enter numbers.The process will repeat until user enters 0.Finally, the program prints the sum of the numbers entered by the user."
      ],
      "metadata": {
        "id": "ovRnH-Ewjuvv"
      }
    },
    {
      "cell_type": "code",
      "source": [
        "s = 0\n",
        "n = int(input(\"Enter a number: \"))\n",
        "while n != 0:\n",
        "  s += num\n",
        "  n = int(input(\"Enter a number: \"))\n",
        "print(\"Sum of entered numbers:\", s)\n"
      ],
      "metadata": {
        "colab": {
          "base_uri": "https://localhost:8080/"
        },
        "id": "CcQLsHXTloRO",
        "outputId": "a70099c5-3f8c-46e3-dba8-318e7f36c773"
      },
      "execution_count": null,
      "outputs": [
        {
          "output_type": "stream",
          "name": "stdout",
          "text": [
            "Enter a number: 2\n",
            "Enter a number: 8\n",
            "Enter a number: 5\n",
            "Enter a number: 4\n",
            "Enter a number: 0\n",
            "Sum of entered numbers: 4\n"
          ]
        }
      ]
    }
  ]
}